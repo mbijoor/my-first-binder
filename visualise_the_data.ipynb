{
 "cells": [
  {
   "cell_type": "code",
   "execution_count": null,
   "id": "0521eace-212b-4478-a00b-2795d85baca0",
   "metadata": {},
   "outputs": [],
   "source": [
    "%matplotlib inline\n",
    "\n",
    "import pandas\n",
    "\n",
    "data = pandas.read_csv(\"gapminder.csv\", index_col=\"country\")\n",
    "\n",
    "years = data.columns.str.strip(\"gdpPercap_\")  # Extract year from last 4 characters of each column name\n",
    "data.columns = years.astype(int)              # Convert year values to integers, saving results back to dataframe\n",
    "\n",
    "data.loc[\"Australia\"].plot()\n"
   ]
  }
 ],
 "metadata": {
  "kernelspec": {
   "display_name": "Python [conda env:my-first-binder]",
   "language": "python",
   "name": "conda-env-my-first-binder-py"
  },
  "language_info": {
   "codemirror_mode": {
    "name": "ipython",
    "version": 3
   },
   "file_extension": ".py",
   "mimetype": "text/x-python",
   "name": "python",
   "nbconvert_exporter": "python",
   "pygments_lexer": "ipython3",
   "version": "3.8.11"
  }
 },
 "nbformat": 4,
 "nbformat_minor": 5
}
